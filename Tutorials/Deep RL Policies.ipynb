{
 "cells": [
  {
   "cell_type": "markdown",
   "metadata": {},
   "source": [
    "# Quick description of how to use the deep RL policies in PyDial\n",
    "\n",
    "Note that this text is not in the quality of a full toturial nor is it meat to be. Its purpose is merely to give guidance on how to use the deep RL policies which are part of the new PyDial release.\n",
    "\n",
    "To run deepRL models you can use the config file simulate_singledomain_DRL.cfg where policytype specifies the policy model. However, we advise to start with"
   ]
  },
  {
   "cell_type": "code",
   "execution_count": null,
   "metadata": {
    "collapsed": true
   },
   "outputs": [],
   "source": [
    "cd scripts/gridengine/paramsearch\n",
    "python runScript.py"
   ]
  },
  {
   "cell_type": "markdown",
   "metadata": {},
   "source": [
    "algorithm that is a wrapper over the repo. It enables to quickly run all policy models with different set-up of parameters.\n",
    "\n",
    "The most influential parameters that are shared across all architectures are discussed below:\n",
    "\n",
    "- learning_rate - all models are using currently ADAM optimizer however starting value of learning rate can heavily influence the results\n",
    "- capacity_vary - number of dialogues that is stored in the buffer, wrong values can lead to overfitting,\n",
    "- epsilon_s_e_vary - annealing of the epsilon-greedy policy, too small value at the start of the training leads to overfitting,\n",
    "- h1_size and h2_size - sizes of hidden layers that needs to be adapted to given domain\n",
    "\n",
    "Importance sampling mechanism for A2C and ENAC is implemented however is highly unstable.\n",
    "To turn it on you have set importance_sampling parameter to True.\n",
    "\n",
    "To run training just execute:"
   ]
  },
  {
   "cell_type": "code",
   "execution_count": null,
   "metadata": {
    "collapsed": true
   },
   "outputs": [],
   "source": [
    "python runScript.py"
   ]
  },
  {
   "cell_type": "markdown",
   "metadata": {},
   "source": [
    "and then to test:"
   ]
  },
  {
   "cell_type": "code",
   "execution_count": null,
   "metadata": {
    "collapsed": true
   },
   "outputs": [],
   "source": [
    "python runScript.py --test"
   ]
  },
  {
   "cell_type": "markdown",
   "metadata": {},
   "source": [
    "Results can be quickly then parsed by:"
   ]
  },
  {
   "cell_type": "code",
   "execution_count": null,
   "metadata": {
    "collapsed": true
   },
   "outputs": [],
   "source": [
    "python parseResults_all.py gRun tra_ no_of_runs .log no_of_models"
   ]
  }
 ],
 "metadata": {
  "kernelspec": {
   "display_name": "Python 2",
   "language": "python",
   "name": "python2"
  },
  "language_info": {
   "codemirror_mode": {
    "name": "ipython",
    "version": 2
   },
   "file_extension": ".py",
   "mimetype": "text/x-python",
   "name": "python",
   "nbconvert_exporter": "python",
   "pygments_lexer": "ipython2",
   "version": "2.7.14"
  }
 },
 "nbformat": 4,
 "nbformat_minor": 1
}
