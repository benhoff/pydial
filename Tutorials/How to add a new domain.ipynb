{
 "cells": [
  {
   "cell_type": "markdown",
   "metadata": {},
   "source": [
    "# How to add a new domain"
   ]
  },
  {
   "cell_type": "markdown",
   "metadata": {},
   "source": [
    "One of the main aims of PyDial is to provide a common statistical dialogue system framework where people are able to create and evaluate dialogues about their own domain. Therefore, adding a new domain has been made very easy. All you need is the respective data base, e.g., about restaurants in Cambridge.\n",
    "\n",
    "The data base should contain one table containing all necessary information and meet the following requirements:\n",
    "- The table name should be the same as of the identifyer of the resulting domain.\n",
    "- All binary slots (which can only hold yes/no values) should be represented as 0 for false and 1 for true.\n",
    "- The data base should be an SQLite data base.\n",
    "\n",
    "To create a new domain, all you need to do is to execute the following python tool:"
   ]
  },
  {
   "cell_type": "code",
   "execution_count": null,
   "metadata": {
    "collapsed": true
   },
   "outputs": [],
   "source": [
    "python scripts/ontologyTool.py -n -d NEW_DOMAIN_NAME -db PATH_TO_DB_FILE --type ENTITY_TYPE"
   ]
  },
  {
   "cell_type": "markdown",
   "metadata": {},
   "source": [
    "The type is the type of the entity contained in your data base. It may be used to distinguish between different domains. As an example, the call to the python script to create CamRestaurants would look like this:"
   ]
  },
  {
   "cell_type": "code",
   "execution_count": null,
   "metadata": {
    "collapsed": true
   },
   "outputs": [],
   "source": [
    "python scripts/ontologyTool.py -n -d CamRestaurants -db ontology/ontologies/CamRestaurants-dbase.db --type restaurant"
   ]
  },
  {
   "cell_type": "markdown",
   "metadata": {},
   "source": [
    "Doing this will lead you though a step-wise process where you have to select which columns of your data base table are part of which functional set of slots of the dialogue (informable, system requestable, requestable, binary).\n",
    "\n",
    "First, the script asks for the informable slots. By pressing the number of a slot and confirming it with ENTER, the respective slot gets marked with a star. Once all slots have been chosen, simply press ENTER without a number and you can continue to selecting the next type of slots.\n",
    "\n",
    "A screen shot showing the selection of all informable slots of CamRestaurants is shown in the following:"
   ]
  },
  {
   "cell_type": "markdown",
   "metadata": {},
   "source": [
    "<img src=\"createOntoCamRes.png\" alt=\"Informable Slots of CamRestaurants\" align=\"left\" style=\"width:450px\"/>"
   ]
  },
  {
   "cell_type": "markdown",
   "metadata": {},
   "source": [
    "The slot types explained:\n",
    "- informable: information the user can inform the system about, e.g., food or name\n",
    "- system requestable: information the system can actively ask the user about to elicit the user's goal, e.g., food but not name\n",
    "- requestable: information the user can request from the system\n",
    "- binary: information which is in the form of a yes/no or true/false"
   ]
  }
 ],
 "metadata": {
  "kernelspec": {
   "display_name": "Python 2",
   "language": "python",
   "name": "python2"
  },
  "language_info": {
   "codemirror_mode": {
    "name": "ipython",
    "version": 2
   },
   "file_extension": ".py",
   "mimetype": "text/x-python",
   "name": "python",
   "nbconvert_exporter": "python",
   "pygments_lexer": "ipython2",
   "version": "2.7.12"
  }
 },
 "nbformat": 4,
 "nbformat_minor": 1
}
